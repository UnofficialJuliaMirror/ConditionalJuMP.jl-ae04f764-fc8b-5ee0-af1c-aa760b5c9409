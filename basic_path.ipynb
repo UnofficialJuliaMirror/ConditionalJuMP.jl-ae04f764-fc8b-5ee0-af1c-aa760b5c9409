{
 "cells": [
  {
   "cell_type": "code",
   "execution_count": 26,
   "metadata": {
    "collapsed": false,
    "deletable": true,
    "editable": true
   },
   "outputs": [
    {
     "name": "stderr",
     "output_type": "stream",
     "text": [
      "WARNING: Method definition handle_complementarities(JuMP.Model) in module PATHInterface at /home/rdeits/.julia/v0.6/ConditionalJuMP/PATHInterface.jl:211 overwritten at /home/rdeits/.julia/v0.6/ConditionalJuMP/PATHInterface.jl:211.\n",
      "WARNING: Method definition #handle_complementarities(Array{Any, 1}, typeof(PATHInterface.handle_complementarities), JuMP.Model) in module PATHInterface overwritten.\n"
     ]
    },
    {
     "data": {
      "text/plain": [
       "true"
      ]
     },
     "execution_count": 26,
     "metadata": {},
     "output_type": "execute_result"
    }
   ],
   "source": [
    "using Revise\n",
    "\".\" in LOAD_PATH || push!(LOAD_PATH, \".\")"
   ]
  },
  {
   "cell_type": "code",
   "execution_count": 27,
   "metadata": {
    "collapsed": false,
    "deletable": true,
    "editable": true
   },
   "outputs": [
    {
     "name": "stderr",
     "output_type": "stream",
     "text": [
      "WARNING: replacing module PATHInterface\n"
     ]
    }
   ],
   "source": [
    "using PATHSolver\n",
    "using TraceCalls\n",
    "using JuMP\n",
    "using Base.Test\n",
    "import PATHInterface\n",
    "reload(\"PATHInterface\")"
   ]
  },
  {
   "cell_type": "code",
   "execution_count": 28,
   "metadata": {
    "collapsed": false,
    "deletable": true,
    "editable": true
   },
   "outputs": [
    {
     "name": "stdout",
     "output_type": "stream",
     "text": [
      "Reading options file path.opt\n",
      "Read of options file complete.\n",
      "\n",
      "1 row/cols, 0 non-zeros, 0.00% dense.\n",
      "\n",
      "Path 4.7.03 (Wed May 28 13:11:13 2014)\n",
      "Written by Todd Munson, Steven Dirkse, and Michael Ferris\n",
      "\n",
      " ** EXIT - solution found.\n"
     ]
    },
    {
     "data": {
      "text/plain": [
       "\u001b[1m\u001b[32mTest Passed\u001b[39m\u001b[22m"
      ]
     },
     "execution_count": 28,
     "metadata": {},
     "output_type": "execute_result"
    }
   ],
   "source": [
    "# find x such that 0 <= x <= 1\n",
    "lb = [0.]\n",
    "ub = [1.]\n",
    "f = x -> zeros(1)\n",
    "options(output=:no)\n",
    "status, z, F = solveLCP(f, lb, ub);\n",
    "@test z ≈ [0]"
   ]
  },
  {
   "cell_type": "code",
   "execution_count": 29,
   "metadata": {
    "collapsed": false,
    "deletable": true,
    "editable": true
   },
   "outputs": [
    {
     "name": "stdout",
     "output_type": "stream",
     "text": [
      "Reading options file path.opt\n",
      "Read of options file complete.\n",
      "\n",
      "2 row/cols, 2 non-zeros, 50.00% dense.\n",
      "\n",
      "Path 4.7.03 (Wed May 28 13:11:13 2014)\n",
      "Written by Todd Munson, Steven Dirkse, and Michael Ferris\n",
      "\n",
      " ** EXIT - solution found.\n"
     ]
    }
   ],
   "source": [
    "# x == 0 or y == 0\n",
    "lb = [-Inf, -Inf]\n",
    "ub = [Inf, Inf]\n",
    "f = z -> [z[2], z[1]]\n",
    "options(output=:no)\n",
    "status, z, F = solveLCP(f, lb, ub)"
   ]
  },
  {
   "cell_type": "code",
   "execution_count": 30,
   "metadata": {
    "collapsed": false,
    "deletable": true,
    "editable": true
   },
   "outputs": [
    {
     "name": "stdout",
     "output_type": "stream",
     "text": [
      "Reading options file path.opt\n",
      "Read of options file complete.\n",
      "\n",
      "2 row/cols, 1 non-zeros, 25.00% dense.\n",
      "\n",
      "Path 4.7.03 (Wed May 28 13:11:13 2014)\n",
      "Written by Todd Munson, Steven Dirkse, and Michael Ferris\n",
      "\n",
      " ** EXIT - solution found.\n"
     ]
    }
   ],
   "source": [
    "# phi = x - 1\n",
    "# phi >= 0 \\perp lambda >= 0\n",
    "# z = [x, lambda]\n",
    "# f = [0, x - 1]\n",
    "# lb = [-Inf, 0]\n",
    "# ub = [Inf, Inf]\n",
    "\n",
    "lb = [-Inf, 0]\n",
    "ub = [Inf, Inf]\n",
    "f = z -> [0, z[1] - 1]\n",
    "options(output=:no)\n",
    "status, z, F = solveLCP(f, lb, ub)"
   ]
  },
  {
   "cell_type": "code",
   "execution_count": 31,
   "metadata": {
    "collapsed": false,
    "deletable": true,
    "editable": true
   },
   "outputs": [
    {
     "name": "stdout",
     "output_type": "stream",
     "text": [
      "Reading options file path.opt\n",
      "Read of options file complete.\n",
      "\n",
      "3 row/cols, 2 non-zeros, 22.22% dense.\n",
      "\n",
      "Path 4.7.03 (Wed May 28 13:11:13 2014)\n",
      "Written by Todd Munson, Steven Dirkse, and Michael Ferris\n",
      "\n",
      " ** EXIT - solution found.\n"
     ]
    }
   ],
   "source": [
    "# phi = x - y\n",
    "# phi >= 0 \\perp lambda >= 0\n",
    "# 0.5 <= y <= 1\n",
    "# z = [x, y, lambda]\n",
    "\n",
    "f = z -> [0., 0., z[1] - z[2]]\n",
    "lb = [-Inf, 0.5, 0]\n",
    "ub = [Inf, 1.0, Inf]\n",
    "options(output=:no)\n",
    "status, z, F = solveLCP(f, lb, ub)"
   ]
  },
  {
   "cell_type": "code",
   "execution_count": 32,
   "metadata": {
    "collapsed": false,
    "deletable": true,
    "editable": true
   },
   "outputs": [
    {
     "name": "stdout",
     "output_type": "stream",
     "text": [
      "Reading options file path.opt\n",
      "Read of options file complete.\n",
      "\n",
      "5 row/cols, 5 non-zeros, 20.00% dense.\n",
      "\n",
      "Path 4.7.03 (Wed May 28 13:11:13 2014)\n",
      "Written by Todd Munson, Steven Dirkse, and Michael Ferris\n",
      "\n",
      " ** EXIT - solution found.\n"
     ]
    }
   ],
   "source": [
    "# phi = x - y\n",
    "# phi >= 0 \\perp lambda >= 0\n",
    "# 0.5 <= y <= 1\n",
    "# 2x - y >= 10\n",
    "\n",
    "# convert into:\n",
    "# phi = x - y\n",
    "# phi >= 0 \\perp lambda >= 0\n",
    "# 0.5 <= y <= 1\n",
    "# s1 >= 0\n",
    "# -2x + y + s1 == -10\n",
    "\n",
    "# z = [x, y, s1, s2, lambda]\n",
    "# f = [0, 0, 0, -2x + y + s1 - 10, x - y]\n",
    "\n",
    "f = z -> [0., 0., 0., -2z[1] + z[2] + z[3] + 10, z[1] - z[2]]\n",
    "lb = [-Inf, 0.5, 0., -Inf, 0]\n",
    "ub = [Inf, 1.0, Inf, Inf, Inf]\n",
    "options(output=:no)\n",
    "status, z, F = solveLCP(f, lb, ub)"
   ]
  },
  {
   "cell_type": "code",
   "execution_count": 33,
   "metadata": {
    "collapsed": true,
    "deletable": true,
    "editable": true
   },
   "outputs": [],
   "source": [
    "using JuMP"
   ]
  },
  {
   "cell_type": "code",
   "execution_count": 34,
   "metadata": {
    "collapsed": false,
    "deletable": true,
    "editable": true,
    "scrolled": false
   },
   "outputs": [
    {
     "name": "stdout",
     "output_type": "stream",
     "text": [
      "Reading options file path.opt\n",
      "Read of options file complete.\n",
      "\n",
      "4 row/cols, 3 non-zeros, 18.75% dense.\n",
      "\n",
      "Path 4.7.03 (Wed May 28 13:11:13 2014)\n",
      "Written by Todd Munson, Steven Dirkse, and Michael Ferris\n",
      "\n",
      " ** EXIT - solution found.\n"
     ]
    }
   ],
   "source": [
    "m = Model(solver=PATHInterface.PATHLCPSolver())\n",
    "@variable m x\n",
    "@variable m 0.5 <= y <= 1\n",
    "@constraint m 2x - y >= 10\n",
    "m\n",
    "options(output=:no)\n",
    "solve(m)\n",
    "@test getvalue(x) ≈ 5.25\n",
    "@test getvalue(y) ≈ 0.5"
   ]
  },
  {
   "cell_type": "code",
   "execution_count": 45,
   "metadata": {
    "collapsed": false,
    "deletable": true,
    "editable": true
   },
   "outputs": [
    {
     "name": "stdout",
     "output_type": "stream",
     "text": [
      "Reading options file path.opt\n",
      "Read of options file complete.\n",
      "\n",
      "1 row/cols, 1 non-zeros, 100.00% dense.\n",
      "\n",
      "Path 4.7.03 (Wed May 28 13:11:13 2014)\n",
      "Written by Todd Munson, Steven Dirkse, and Michael Ferris\n",
      "\n",
      " ** EXIT - solution found.\n"
     ]
    },
    {
     "name": "stderr",
     "output_type": "stream",
     "text": [
      "WARNING: Method definition loadproblem!(PATHInterface.PATHLCPModel, Any, Any, Any, Any, Any, Any, Any) in module PATHInterface at /home/rdeits/.julia/v0.6/ConditionalJuMP/PATHInterface.jl:160 overwritten at /home/rdeits/.julia/v0.6/ConditionalJuMP/PATHInterface.jl:160.\n"
     ]
    },
    {
     "data": {
      "text/plain": [
       "2.0"
      ]
     },
     "execution_count": 45,
     "metadata": {},
     "output_type": "execute_result"
    }
   ],
   "source": [
    "m = Model(solver=PATHInterface.PATHLCPSolver())\n",
    "@variable m x >= 1\n",
    "PATHInterface.complementarity!(m, x, x - 2)\n",
    "options(output=:no)\n",
    "@test solve(m) == :Optimal\n",
    "getvalue(x)"
   ]
  },
  {
   "cell_type": "code",
   "execution_count": 44,
   "metadata": {
    "collapsed": false,
    "deletable": true,
    "editable": true
   },
   "outputs": [
    {
     "data": {
      "text/plain": [
       "PATHInterface.LCP{Float64}([1.0], [Inf], [0.0], \n",
       "  [1, 1]  =  1.0)"
      ]
     },
     "execution_count": 44,
     "metadata": {},
     "output_type": "execute_result"
    }
   ],
   "source": [
    "get(m.internalModel.lcp)"
   ]
  },
  {
   "cell_type": "code",
   "execution_count": null,
   "metadata": {
    "collapsed": true
   },
   "outputs": [],
   "source": []
  }
 ],
 "metadata": {
  "kernelspec": {
   "display_name": "Julia 0.6.1",
   "language": "julia",
   "name": "julia-0.6"
  },
  "language_info": {
   "file_extension": ".jl",
   "mimetype": "application/julia",
   "name": "julia",
   "version": "0.6.1"
  }
 },
 "nbformat": 4,
 "nbformat_minor": 2
}
