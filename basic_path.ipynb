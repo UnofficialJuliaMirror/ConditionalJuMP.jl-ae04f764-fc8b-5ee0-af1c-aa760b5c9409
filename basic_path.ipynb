{
 "cells": [
  {
   "cell_type": "code",
   "execution_count": 1,
   "metadata": {},
   "outputs": [
    {
     "data": {
      "text/plain": [
       "3-element Array{Any,1}:\n",
       " \"/Applications/Julia-0.6.app/Contents/Resources/julia/local/share/julia/site/v0.6\"\n",
       " \"/Applications/Julia-0.6.app/Contents/Resources/julia/share/julia/site/v0.6\"      \n",
       " \".\"                                                                               "
      ]
     },
     "execution_count": 1,
     "metadata": {},
     "output_type": "execute_result"
    }
   ],
   "source": [
    "using Revise\n",
    "push!(LOAD_PATH, \".\")"
   ]
  },
  {
   "cell_type": "code",
   "execution_count": 73,
   "metadata": {},
   "outputs": [
    {
     "name": "stderr",
     "output_type": "stream",
     "text": [
      "WARNING: replacing module PATHInterface\n"
     ]
    }
   ],
   "source": [
    "using PATHSolver\n",
    "import PATHInterface\n",
    "reload(\"PATHInterface\")\n",
    "using Base.Test"
   ]
  },
  {
   "cell_type": "code",
   "execution_count": 74,
   "metadata": {},
   "outputs": [
    {
     "name": "stdout",
     "output_type": "stream",
     "text": [
      "Reading options file path.opt\n",
      "Read of options file complete.\n",
      "\n",
      "1 row/cols, 0 non-zeros, 0.00% dense.\n",
      "\n",
      "Path 4.7.03 (Thu Jan 24 15:44:12 2013)\n",
      "Written by Todd Munson, Steven Dirkse, and Michael Ferris\n",
      "\n",
      " ** EXIT - solution found.\n"
     ]
    },
    {
     "data": {
      "text/plain": [
       "\u001b[1m\u001b[32mTest Passed\u001b[39m\u001b[22m"
      ]
     },
     "execution_count": 74,
     "metadata": {},
     "output_type": "execute_result"
    }
   ],
   "source": [
    "# find x such that 0 <= x <= 1\n",
    "lb = [0.]\n",
    "ub = [1.]\n",
    "f = x -> zeros(1)\n",
    "options(output=:no)\n",
    "status, z, F = solveLCP(f, lb, ub);\n",
    "@test z ≈ [0]"
   ]
  },
  {
   "cell_type": "code",
   "execution_count": 75,
   "metadata": {},
   "outputs": [
    {
     "name": "stdout",
     "output_type": "stream",
     "text": [
      "Reading options file path.opt\n",
      "Read of options file complete.\n",
      "\n",
      "2 row/cols, 2 non-zeros, 50.00% dense.\n",
      "\n",
      "Path 4.7.03 (Thu Jan 24 15:44:12 2013)\n",
      "Written by Todd Munson, Steven Dirkse, and Michael Ferris\n",
      "\n",
      " ** EXIT - solution found.\n"
     ]
    },
    {
     "data": {
      "text/plain": [
       "(:Solved, [0.0, 0.0], [0.0, 0.0])"
      ]
     },
     "execution_count": 75,
     "metadata": {},
     "output_type": "execute_result"
    }
   ],
   "source": [
    "# x == 0 or y == 0\n",
    "lb = [-Inf, -Inf]\n",
    "ub = [Inf, Inf]\n",
    "f = z -> [z[2], z[1]]\n",
    "options(output=:no)\n",
    "status, z, F = solveLCP(f, lb, ub)"
   ]
  },
  {
   "cell_type": "code",
   "execution_count": 76,
   "metadata": {},
   "outputs": [
    {
     "name": "stdout",
     "output_type": "stream",
     "text": [
      "Reading options file path.opt\n",
      "Read of options file complete.\n",
      "\n",
      "2 row/cols, 1 non-zeros, 25.00% dense.\n",
      "\n",
      "Path 4.7.03 (Thu Jan 24 15:44:12 2013)\n",
      "Written by Todd Munson, Steven Dirkse, and Michael Ferris\n",
      "\n",
      " ** EXIT - solution found.\n"
     ]
    },
    {
     "data": {
      "text/plain": [
       "(:Solved, [1.0, 0.0], [0.0, 0.0])"
      ]
     },
     "execution_count": 76,
     "metadata": {},
     "output_type": "execute_result"
    }
   ],
   "source": [
    "# phi = x - 1\n",
    "# phi >= 0 \\perp lambda >= 0\n",
    "# z = [x, lambda]\n",
    "# f = [0, x - 1]\n",
    "# lb = [-Inf, 0]\n",
    "# ub = [Inf, Inf]\n",
    "\n",
    "lb = [-Inf, 0]\n",
    "ub = [Inf, Inf]\n",
    "f = z -> [0, z[1] - 1]\n",
    "options(output=:no)\n",
    "status, z, F = solveLCP(f, lb, ub)"
   ]
  },
  {
   "cell_type": "code",
   "execution_count": 77,
   "metadata": {},
   "outputs": [
    {
     "name": "stdout",
     "output_type": "stream",
     "text": [
      "Reading options file path.opt\n",
      "Read of options file complete.\n",
      "\n",
      "3 row/cols, 2 non-zeros, 22.22% dense.\n",
      "\n",
      "Path 4.7.03 (Thu Jan 24 15:44:12 2013)\n",
      "Written by Todd Munson, Steven Dirkse, and Michael Ferris\n",
      "\n",
      " ** EXIT - solution found.\n"
     ]
    },
    {
     "data": {
      "text/plain": [
       "(:Solved, [0.5, 0.5, 0.0], [0.0, 0.0, 0.0])"
      ]
     },
     "execution_count": 77,
     "metadata": {},
     "output_type": "execute_result"
    }
   ],
   "source": [
    "# phi = x - y\n",
    "# phi >= 0 \\perp lambda >= 0\n",
    "# 0.5 <= y <= 1\n",
    "# z = [x, y, lambda]\n",
    "\n",
    "f = z -> [0., 0., z[1] - z[2]]\n",
    "lb = [-Inf, 0.5, 0]\n",
    "ub = [Inf, 1.0, Inf]\n",
    "options(output=:no)\n",
    "status, z, F = solveLCP(f, lb, ub)"
   ]
  },
  {
   "cell_type": "code",
   "execution_count": 78,
   "metadata": {},
   "outputs": [
    {
     "name": "stdout",
     "output_type": "stream",
     "text": [
      "Reading options file path.opt\n",
      "Read of options file complete.\n",
      "\n",
      "5 row/cols, 5 non-zeros, 20.00% dense.\n",
      "\n",
      "Path 4.7.03 (Thu Jan 24 15:44:12 2013)\n",
      "Written by Todd Munson, Steven Dirkse, and Michael Ferris\n",
      "\n",
      " ** EXIT - solution found.\n"
     ]
    },
    {
     "data": {
      "text/plain": [
       "(:Solved, [5.25, 0.5, 0.0, -1.0e20, 0.0], [0.0, 0.0, 0.0, 0.0, 4.75])"
      ]
     },
     "execution_count": 78,
     "metadata": {},
     "output_type": "execute_result"
    }
   ],
   "source": [
    "# phi = x - y\n",
    "# phi >= 0 \\perp lambda >= 0\n",
    "# 0.5 <= y <= 1\n",
    "# 2x - y >= 10\n",
    "\n",
    "# convert into:\n",
    "# phi = x - y\n",
    "# phi >= 0 \\perp lambda >= 0\n",
    "# 0.5 <= y <= 1\n",
    "# s1 >= 0\n",
    "# -2x + y + s1 == -10\n",
    "\n",
    "# z = [x, y, s1, s2, lambda]\n",
    "# f = [0, 0, 0, -2x + y + s1 - 10, x - y]\n",
    "\n",
    "f = z -> [0., 0., 0., -2z[1] + z[2] + z[3] + 10, z[1] - z[2]]\n",
    "lb = [-Inf, 0.5, 0., -Inf, 0]\n",
    "ub = [Inf, 1.0, Inf, Inf, Inf]\n",
    "options(output=:no)\n",
    "status, z, F = solveLCP(f, lb, ub)"
   ]
  },
  {
   "cell_type": "code",
   "execution_count": 79,
   "metadata": {},
   "outputs": [],
   "source": [
    "using JuMP"
   ]
  },
  {
   "cell_type": "code",
   "execution_count": 80,
   "metadata": {
    "scrolled": false
   },
   "outputs": [
    {
     "name": "stdout",
     "output_type": "stream",
     "text": [
      "Could not open options file: path.opt\n",
      "Using defaults.\n",
      "4 row/cols, 3 non-zeros, 18.75% dense.\n",
      "\n",
      "Path 4.7.03 (Thu Jan 24 15:44:12 2013)\n",
      "Written by Todd Munson, Steven Dirkse, and Michael Ferris\n",
      "\n",
      "INITIAL POINT STATISTICS\n",
      "Zero column of order. . . . . .  0.0000e+00 var: (x[    4])\n",
      "Zero row of order . . . . . . .  0.0000e+00 eqn: (f[    1])\n",
      "Zero row of order . . . . . . .  0.0000e+00 eqn: (f[    2])\n",
      "Zero row of order . . . . . . .  0.0000e+00 eqn: (f[    3])\n",
      "Total zero columns. . . . . . .  1\n",
      "Total zero rows . . . . . . . .  3\n",
      "Maximum of X. . . . . . . . . .  1.0000e+20 var: (x[    1])\n",
      "Maximum of F. . . . . . . . . .  2.0000e+20 eqn: (f[    4])\n",
      "Maximum of Grad F . . . . . . .  2.0000e+00 eqn: (f[    4])\n",
      "                                            var: (x[    1])\n",
      "\n",
      "INITIAL JACOBIAN NORM STATISTICS\n",
      "Maximum Row Norm. . . . . . . .  4.0000e+00 eqn: (f[    4])\n",
      "Minimum Row Norm. . . . . . . .  4.0000e+00 eqn: (f[    4])\n",
      "Maximum Column Norm . . . . . .  2.0000e+00 var: (x[    1])\n",
      "Minimum Column Norm . . . . . .  1.0000e+00 var: (x[    2])\n",
      "\n",
      "Crash Log\n",
      "major  func  diff  size  residual    step       prox   (label)\n",
      "    0     0             2.0000e+20             0.0e+00 (f[    4])\n",
      "pn_search terminated: no progress.\n",
      "\n",
      "Major Iteration Log\n",
      "major minor  func  grad  residual    step  type prox    inorm  (label)\n",
      "    0     0    13     1 2.0000e+20           I 1.0e+01 2.0e+20 (f[    4])\n",
      "    1     1    14     2 2.0000e+20  1.0e+00 SO 4.0e+00 2.0e+20 (f[    4])\n",
      "    2     1    15     3 2.0000e+20  1.0e+00 SO 1.6e+00 2.0e+20 (f[    4])\n",
      "    3     1    16     4 2.0000e+20  1.0e+00 SO 6.4e-01 2.0e+20 (f[    4])\n",
      "    4     1    17     5 2.0000e+20  1.0e+00 SO 2.6e-01 2.0e+20 (f[    4])\n",
      "    5     1    18     6 2.0000e+20  1.0e+00 SO 1.0e-01 2.0e+20 (f[    4])\n",
      "    6     1    19     7 2.0000e+20  1.0e+00 SO 4.1e-02 2.0e+20 (f[    4])\n",
      "    7     1    20     8 2.0000e+20  1.0e+00 SO 1.6e-02 2.0e+20 (f[    4])\n",
      "    8     1    21     9 2.0000e+20  1.0e+00 SO 6.6e-03 2.0e+20 (f[    4])\n",
      "    9     1    22    10 2.0000e+20  1.0e+00 SO 2.6e-03 2.0e+20 (f[    4])\n",
      "   10     1    23    11 2.0000e+20  1.0e+00 SO 1.0e-03 2.0e+20 (f[    4])\n",
      "   11     1    24    12 2.0000e+20  1.0e+00 SO 4.2e-04 2.0e+20 (f[    4])\n",
      "   12     1    25    13 2.0000e+20  1.0e+00 SO 1.7e-04 2.0e+20 (f[    4])\n",
      "   13     1    26    14 2.0000e+20  1.0e+00 SO 6.7e-05 2.0e+20 (f[    4])\n",
      "   14     1    27    15 2.0000e+20  1.0e+00 SO 2.7e-05 2.0e+20 (f[    4])\n",
      "   15     1    28    16 2.0000e+20  1.0e+00 SO 1.1e-05 2.0e+20 (f[    4])\n",
      "   16     1    29    17 2.0000e+20  1.0e+00 SO 4.3e-06 2.0e+20 (f[    4])\n",
      "   17     1    30    18 2.0000e+20  1.0e+00 SO 1.7e-06 2.0e+20 (f[    4])\n",
      "\n",
      "Restart Log\n",
      "proximal_perturbation 0\n",
      "crash_method none\n",
      "crash_perturb yes\n",
      "nms_initial_reference_factor 2\n",
      "lemke_start_type slack\n",
      "proximal_perturbation 1.0000e-01\n",
      "\n",
      "Major Iteration Log\n",
      "major minor  func  grad  residual    step  type prox    inorm  (label)\n",
      "   17     0    32    19 2.0000e+20           R 1.0e-01 2.0e+20 (f[    4])\n",
      "   18     1    33    20 2.0000e+20  1.0e+00 SO 4.0e-02 2.0e+20 (f[    4])\n",
      "   19     1    34    21 2.0000e+20  1.0e+00 SO 1.6e-02 2.0e+20 (f[    4])\n",
      "   20     1    35    22 2.0000e+20  1.0e+00 SO 6.4e-03 2.0e+20 (f[    4])\n",
      "   21     1    36    23 2.0000e+20  1.0e+00 SO 2.6e-03 2.0e+20 (f[    4])\n",
      "   22     1    37    24 2.0000e+20  1.0e+00 SO 1.0e-03 2.0e+20 (f[    4])\n",
      "   23     1    38    25 2.0000e+20  1.0e+00 SO 4.1e-04 2.0e+20 (f[    4])\n",
      "   24     1    39    26 2.0000e+20  1.0e+00 SO 1.6e-04 2.0e+20 (f[    4])\n",
      "   25     1    40    27 2.0000e+20  1.0e+00 SO 6.6e-05 2.0e+20 (f[    4])\n",
      "   26     1    41    28 2.0000e+20  1.0e+00 SO 2.6e-05 2.0e+20 (f[    4])\n",
      "   27     1    42    29 2.0000e+20  1.0e+00 SO 1.0e-05 2.0e+20 (f[    4])\n",
      "   28     1    43    30 2.0000e+20  1.0e+00 SO 4.2e-06 2.0e+20 (f[    4])\n",
      "   29     1    44    31 2.0000e+20  1.0e+00 SO 1.7e-06 2.0e+20 (f[    4])\n",
      "   30     1    45    32 2.0000e+20  1.0e+00 SO 6.7e-07 2.0e+20 (f[    4])\n",
      "   31     1    46    33 2.0000e+20  1.0e+00 SO 2.7e-07 2.0e+20 (f[    4])\n",
      "   32     1    47    34 2.0000e+20  1.0e+00 SO 1.1e-07 2.0e+20 (f[    4])\n",
      "\n",
      "Restart Log\n",
      "proximal_perturbation 0\n",
      "crash_method none\n",
      "crash_perturb no\n",
      "nms_initial_reference_factor 10\n",
      "nms_memory_size 2\n",
      "nms_mstep_frequency 1\n",
      "lemke_search_type slack\n",
      "\n",
      "Major Iteration Log\n",
      "major minor  func  grad  residual    step  type prox    inorm  (label)\n",
      "   32     0    49    35 2.0000e+20           R 0.0e+00 2.0e+20 (f[    4])\n",
      "   33     1    50    36 1.0500e+01  1.0e+00 SM 0.0e+00 1.0e+01 (f[    4])\n",
      "   34     1    51    37 0.0000e+00  1.0e+00 SM 0.0e+00 0.0e+00 (f[    1])\n",
      "\n",
      "FINAL STATISTICS\n",
      "Inf-Norm of Complementarity . .  0.0000e+00 eqn: (f[    1])\n",
      "Inf-Norm of Normal Map. . . . .  0.0000e+00 eqn: (f[    1])\n",
      "Inf-Norm of Minimum Map . . . .  0.0000e+00 eqn: (f[    1])\n",
      "Inf-Norm of Fischer Function. .  0.0000e+00 eqn: (f[    1])\n",
      "Inf-Norm of Grad Fischer Fcn. .  0.0000e+00 eqn: (f[    1])\n",
      "Two-Norm of Grad Fischer Fcn. .  0.0000e+00\n",
      "\n",
      "FINAL POINT STATISTICS\n",
      "Zero column of order. . . . . .  0.0000e+00 var: (x[    4])\n",
      "Zero row of order . . . . . . .  0.0000e+00 eqn: (f[    1])\n",
      "Zero row of order . . . . . . .  0.0000e+00 eqn: (f[    2])\n",
      "Zero row of order . . . . . . .  0.0000e+00 eqn: (f[    3])\n",
      "Total zero columns. . . . . . .  1\n",
      "Total zero rows . . . . . . . .  3\n",
      "Maximum of X. . . . . . . . . .  1.0000e+20 var: (x[    4])\n",
      "Maximum of F. . . . . . . . . .  0.0000e+00 eqn: (f[    1])\n",
      "Maximum of Grad F . . . . . . .  2.0000e+00 eqn: (f[    4])\n",
      "                                            var: (x[    1])\n",
      "\n",
      " ** EXIT - solution found.\n",
      "\n",
      "Major Iterations. . . . 34\n",
      "Minor Iterations. . . . 36\n",
      "Restarts. . . . . . . . 2\n",
      "Crash Iterations. . . . 0\n",
      "Gradient Steps. . . . . 0\n",
      "Function Evaluations. . 51\n",
      "Gradient Evaluations. . 37\n",
      "Basis Time. . . . . . . 0.000137\n",
      "Total Time. . . . . . . 0.000664\n",
      "Residual. . . . . . . . 0.000000e+00\n"
     ]
    },
    {
     "data": {
      "text/plain": [
       ":Optimal"
      ]
     },
     "execution_count": 80,
     "metadata": {},
     "output_type": "execute_result"
    }
   ],
   "source": [
    "m = Model(solver=PATHInterface.PATHLCPSolver())\n",
    "@variable m x\n",
    "@variable m 0.5 <= y <= 1\n",
    "@constraint m 2x - y >= 10\n",
    "m\n",
    "solve(m)"
   ]
  },
  {
   "cell_type": "code",
   "execution_count": 81,
   "metadata": {},
   "outputs": [
    {
     "data": {
      "text/plain": [
       "(5.25, 0.5)"
      ]
     },
     "execution_count": 81,
     "metadata": {},
     "output_type": "execute_result"
    }
   ],
   "source": [
    "getvalue(x), getvalue(y)"
   ]
  },
  {
   "cell_type": "code",
   "execution_count": null,
   "metadata": {
    "collapsed": true
   },
   "outputs": [],
   "source": []
  }
 ],
 "metadata": {
  "kernelspec": {
   "display_name": "Julia 0.6.1",
   "language": "julia",
   "name": "julia-0.6"
  },
  "language_info": {
   "file_extension": ".jl",
   "mimetype": "application/julia",
   "name": "julia",
   "version": "0.6.1"
  }
 },
 "nbformat": 4,
 "nbformat_minor": 2
}
