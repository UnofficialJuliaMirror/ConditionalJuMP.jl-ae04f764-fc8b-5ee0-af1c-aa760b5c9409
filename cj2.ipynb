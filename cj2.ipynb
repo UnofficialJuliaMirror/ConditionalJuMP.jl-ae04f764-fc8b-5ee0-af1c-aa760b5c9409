{
 "cells": [
  {
   "cell_type": "code",
   "execution_count": 73,
   "metadata": {},
   "outputs": [],
   "source": [
    "using JuMP, Gurobi\n",
    "using BenchmarkTools\n",
    "using Base.Test"
   ]
  },
  {
   "cell_type": "code",
   "execution_count": 98,
   "metadata": {},
   "outputs": [
    {
     "name": "stderr",
     "output_type": "stream",
     "text": [
      "WARNING: replacing module cj2\n"
     ]
    },
    {
     "data": {
      "text/plain": [
       "cj2"
      ]
     },
     "execution_count": 98,
     "metadata": {},
     "output_type": "execute_result"
    }
   ],
   "source": [
    "module cj2\n",
    "\n",
    "using Interfaces\n",
    "using JuMP\n",
    "using Unrolled\n",
    "\n",
    "import Base: show, hash, ==\n",
    "\n",
    "function simplify(e::JuMP.GenericAffExpr{T, Variable}) where T\n",
    "    coeffs = Dict{Variable, T}()\n",
    "    for i in eachindex(e.vars)\n",
    "        v, c = e.vars[i], e.coeffs[i]\n",
    "        if c != 0\n",
    "            coeffs[v] = get(coeffs, v, zero(T)) + c\n",
    "        end\n",
    "    end\n",
    "    AffExpr(collect(keys(coeffs)), collect(values(coeffs)), e.constant)\n",
    "end\n",
    "\n",
    "Narg{N} = Tuple{Vararg{Any, N}}\n",
    "\n",
    "immutable Conditional{Op, Args<:Tuple}\n",
    "    op::Op\n",
    "    args::Args\n",
    "    hash::UInt\n",
    "    \n",
    "    function Conditional{Op, Args}(op::Op, args::Args) where {Op, Args}\n",
    "        new(op, args, _hash(args, hash(op)))\n",
    "    end\n",
    "end\n",
    "\n",
    "nan_to_null(x) = isnan(x) ? Nullable{typeof(x)}() : Nullable{typeof(x)}(x)\n",
    "\n",
    "normalize(op, args) = op, args\n",
    "\n",
    "function Conditional(op, args)\n",
    "    norm_op, norm_args = normalize(op, args)\n",
    "    Conditional{typeof(norm_op), typeof(norm_args)}(norm_op, norm_args)\n",
    "end\n",
    "\n",
    "normalize(op::typeof(<=), args::Narg{2}) = (<=, (simplify(args[1] - args[2]), 0))\n",
    "normalize(op::typeof(>=), args::Narg{2}) = (<=, (simplify(args[2] - args[1]), 0))\n",
    "normalize(op::typeof(==), args::Narg{2}) = (==, (simplify(args[1] - args[2]), 0))\n",
    "\n",
    "\"\"\"\n",
    "Like JuMP.getvalue, but returns a Nullable{T}() for unset variables instead\n",
    "of throwing a warning\n",
    "\"\"\"\n",
    "function _getvalue(x::JuMP.GenericAffExpr{T, Variable}) where {T}\n",
    "    result::Nullable{T} = x.constant\n",
    "    for i in eachindex(x.coeffs)\n",
    "        result = result .+ x.coeffs[i] .* _getvalue(x.vars[i])\n",
    "    end\n",
    "    result\n",
    "end\n",
    "\n",
    "_getvalue(x::Variable) = nan_to_null(JuMP._getValue(x))\n",
    "_getvalue(x::Number) = nan_to_null(x)\n",
    "_getvalue(c::Conditional{typeof(<=), <:Narg{2}}) = _getvalue(c.args[1]) .- _getvalue(c.args[2])\n",
    "_getvalue(c::Conditional{typeof(>=), <:Narg{2}}) = _getvalue(c.args[2]) .- _getvalue(c.args[1])\n",
    "_getvalue(c::Conditional{typeof(==), <:Narg{2}}) = abs.(_getvalue(c.args[1]) .- _getvalue(c.args[2]))\n",
    "_getvalue(c::Conditional{typeof(&)}) = maximum(x -> _getvalue.(x), c.args)\n",
    "\n",
    "(==)(c1::Conditional, c2::Conditional) = (c1.op == c2.op) && (c1.args == c2.args)\n",
    "\n",
    "# work-around because JuMP doesn't properly define hash()\n",
    "function _hash(x::JuMP.GenericAffExpr, h::UInt)\n",
    "    h = hash(x.constant, h)\n",
    "    for v in x.vars\n",
    "        h = hash(v, h)\n",
    "    end\n",
    "    for c in x.coeffs\n",
    "        h = hash(c, h)\n",
    "    end\n",
    "    h\n",
    "end\n",
    "\n",
    "_hash(x, h::UInt) = hash(x, h)\n",
    "\n",
    "@unroll function _hash(args::Tuple, h::UInt)\n",
    "    @unroll for arg in args\n",
    "        h = _hash(arg, h)\n",
    "    end\n",
    "    return h\n",
    "end\n",
    "\n",
    "hash(c::Conditional, h::UInt) = hash(c.hash, h)\n",
    "    \n",
    "# function hash(c::Conditional, h::UInt)\n",
    "#     h = hash(c.op, h)\n",
    "#     return _hash(c.args, h)\n",
    "# end\n",
    "\n",
    "@interface ConditionalIfc(self::Conditional) begin\n",
    "    _getvalue()::Nullable{Float64} = _getvalue(self)\n",
    "    hash(h::UInt)::UInt = hash(self, hash(ConditionalIfc, h))\n",
    "    (==)(other::ConditionalIfc)::Bool = (hash(self, hash(ConditionalIfc)) == hash(other)) && (self == other.self)\n",
    "end\n",
    "\n",
    "Base.show(io::IO, ci::ConditionalIfc) = print(io, \"Interface: ($(ci.self))\")\n",
    "\n",
    "end\n"
   ]
  },
  {
   "cell_type": "code",
   "execution_count": 99,
   "metadata": {},
   "outputs": [
    {
     "data": {
      "text/plain": [
       "\u001b[1m\u001b[32mTest Passed\n",
       "\u001b[39m\u001b[22m"
      ]
     },
     "execution_count": 99,
     "metadata": {},
     "output_type": "execute_result"
    }
   ],
   "source": [
    "m = Model(solver=GurobiSolver())\n",
    "@variable m -1 <= x <= 1\n",
    "c1 = cj2.Conditional(<=, (x, 0))\n",
    "c2 = cj2.Conditional(==, (x, 1))\n",
    "c3 = cj2.Conditional(<=, (x + 5, 5))\n",
    "ci1 = cj2.ConditionalIfc(c1)\n",
    "ci2 = cj2.ConditionalIfc(c2)\n",
    "ci3 = cj2.ConditionalIfc(c3)\n",
    "\n",
    "@test c1 != c2\n",
    "@test c2 != c3\n",
    "@test c1 == c3\n",
    "@test c1 !== c3\n",
    "@test hash(c1) == hash(c3)\n",
    "@test hash(c1) != hash(c2)\n",
    "\n",
    "@test ci1 != ci2\n",
    "@test ci2 != ci3\n",
    "@test ci1 == ci3\n",
    "@test hash(ci1) == hash(ci3)\n",
    "@test hash(ci1) != hash(ci2)\n",
    "@test hash(ci1) != hash(c1)"
   ]
  },
  {
   "cell_type": "code",
   "execution_count": 75,
   "metadata": {},
   "outputs": [
    {
     "data": {
      "text/plain": [
       "cj2.Conditional{Base.#<=,Tuple{JuMP.GenericAffExpr{Float64,JuMP.Variable},Int64}}(<=, (x, 0), 0xf8ec7f62ade81d3c)"
      ]
     },
     "execution_count": 75,
     "metadata": {},
     "output_type": "execute_result"
    }
   ],
   "source": [
    "c1"
   ]
  },
  {
   "cell_type": "code",
   "execution_count": 76,
   "metadata": {},
   "outputs": [
    {
     "data": {
      "text/plain": [
       "cj2.Conditional{Base.#<=,Tuple{JuMP.GenericAffExpr{Float64,JuMP.Variable},Int64}}(<=, (x, 0), 0x247488fcd21b43a7)"
      ]
     },
     "execution_count": 76,
     "metadata": {},
     "output_type": "execute_result"
    }
   ],
   "source": [
    "c3"
   ]
  },
  {
   "cell_type": "code",
   "execution_count": 72,
   "metadata": {},
   "outputs": [
    {
     "data": {
      "text/plain": [
       "true"
      ]
     },
     "execution_count": 72,
     "metadata": {},
     "output_type": "execute_result"
    }
   ],
   "source": [
    "c1 == c3"
   ]
  },
  {
   "cell_type": "code",
   "execution_count": 100,
   "metadata": {},
   "outputs": [
    {
     "data": {
      "text/plain": [
       "BenchmarkTools.Trial: \n",
       "  memory estimate:  0 bytes\n",
       "  allocs estimate:  0\n",
       "  --------------\n",
       "  minimum time:     65.322 ns (0.00% GC)\n",
       "  median time:      66.248 ns (0.00% GC)\n",
       "  mean time:        70.145 ns (0.00% GC)\n",
       "  maximum time:     326.171 ns (0.00% GC)\n",
       "  --------------\n",
       "  samples:          10000\n",
       "  evals/sample:     979"
      ]
     },
     "execution_count": 100,
     "metadata": {},
     "output_type": "execute_result"
    }
   ],
   "source": [
    "@benchmark $ci1 == $ci2"
   ]
  },
  {
   "cell_type": "code",
   "execution_count": 101,
   "metadata": {},
   "outputs": [
    {
     "data": {
      "text/plain": [
       "BenchmarkTools.Trial: \n",
       "  memory estimate:  32 bytes\n",
       "  allocs estimate:  1\n",
       "  --------------\n",
       "  minimum time:     646.252 ns (0.00% GC)\n",
       "  median time:      667.055 ns (0.00% GC)\n",
       "  mean time:        717.001 ns (0.00% GC)\n",
       "  maximum time:     3.911 μs (0.00% GC)\n",
       "  --------------\n",
       "  samples:          10000\n",
       "  evals/sample:     163"
      ]
     },
     "execution_count": 101,
     "metadata": {},
     "output_type": "execute_result"
    }
   ],
   "source": [
    "@benchmark $ci1 == $ci1"
   ]
  },
  {
   "cell_type": "code",
   "execution_count": null,
   "metadata": {
    "collapsed": true
   },
   "outputs": [],
   "source": []
  },
  {
   "cell_type": "code",
   "execution_count": 65,
   "metadata": {},
   "outputs": [
    {
     "data": {
      "text/plain": [
       "BenchmarkTools.Trial: \n",
       "  memory estimate:  0 bytes\n",
       "  allocs estimate:  0\n",
       "  --------------\n",
       "  minimum time:     52.267 ns (0.00% GC)\n",
       "  median time:      53.059 ns (0.00% GC)\n",
       "  mean time:        56.460 ns (0.00% GC)\n",
       "  maximum time:     235.061 ns (0.00% GC)\n",
       "  --------------\n",
       "  samples:          10000\n",
       "  evals/sample:     986"
      ]
     },
     "execution_count": 65,
     "metadata": {},
     "output_type": "execute_result"
    }
   ],
   "source": [
    "@benchmark $ci == $ci"
   ]
  },
  {
   "cell_type": "code",
   "execution_count": 52,
   "metadata": {},
   "outputs": [
    {
     "data": {
      "text/plain": [
       "BenchmarkTools.Trial: \n",
       "  memory estimate:  0 bytes\n",
       "  allocs estimate:  0\n",
       "  --------------\n",
       "  minimum time:     5.266 ns (0.00% GC)\n",
       "  median time:      5.786 ns (0.00% GC)\n",
       "  mean time:        7.108 ns (0.00% GC)\n",
       "  maximum time:     75.407 ns (0.00% GC)\n",
       "  --------------\n",
       "  samples:          10000\n",
       "  evals/sample:     999"
      ]
     },
     "execution_count": 52,
     "metadata": {},
     "output_type": "execute_result"
    }
   ],
   "source": [
    "@benchmark hash($c)"
   ]
  },
  {
   "cell_type": "code",
   "execution_count": 53,
   "metadata": {},
   "outputs": [
    {
     "data": {
      "text/plain": [
       "BenchmarkTools.Trial: \n",
       "  memory estimate:  0 bytes\n",
       "  allocs estimate:  0\n",
       "  --------------\n",
       "  minimum time:     30.061 ns (0.00% GC)\n",
       "  median time:      30.320 ns (0.00% GC)\n",
       "  mean time:        31.701 ns (0.00% GC)\n",
       "  maximum time:     161.445 ns (0.00% GC)\n",
       "  --------------\n",
       "  samples:          10000\n",
       "  evals/sample:     995"
      ]
     },
     "execution_count": 53,
     "metadata": {},
     "output_type": "execute_result"
    }
   ],
   "source": [
    "@benchmark hash($ci)"
   ]
  },
  {
   "cell_type": "code",
   "execution_count": 39,
   "metadata": {},
   "outputs": [
    {
     "data": {
      "text/plain": [
       "3-element Array{UInt64,1}:\n",
       " 0x950c4fdc2d2dc2f3\n",
       " 0x950c4fdc2d2dc2f3\n",
       " 0x950c4fdc2d2dc2f3"
      ]
     },
     "execution_count": 39,
     "metadata": {},
     "output_type": "execute_result"
    }
   ],
   "source": [
    "v = [ci, ci, ci]\n",
    "y = hash.(v)"
   ]
  },
  {
   "cell_type": "code",
   "execution_count": 40,
   "metadata": {},
   "outputs": [
    {
     "data": {
      "text/plain": [
       "BenchmarkTools.Trial: \n",
       "  memory estimate:  0 bytes\n",
       "  allocs estimate:  0\n",
       "  --------------\n",
       "  minimum time:     295.435 ns (0.00% GC)\n",
       "  median time:      306.559 ns (0.00% GC)\n",
       "  mean time:        350.485 ns (0.00% GC)\n",
       "  maximum time:     1.622 μs (0.00% GC)\n",
       "  --------------\n",
       "  samples:          10000\n",
       "  evals/sample:     262"
      ]
     },
     "execution_count": 40,
     "metadata": {},
     "output_type": "execute_result"
    }
   ],
   "source": [
    "@benchmark $y .= hash.($v)"
   ]
  },
  {
   "cell_type": "code",
   "execution_count": null,
   "metadata": {
    "collapsed": true
   },
   "outputs": [],
   "source": []
  }
 ],
 "metadata": {
  "kernelspec": {
   "display_name": "Julia 0.6.0",
   "language": "julia",
   "name": "julia-0.6"
  },
  "language_info": {
   "file_extension": ".jl",
   "mimetype": "application/julia",
   "name": "julia",
   "version": "0.6.0"
  }
 },
 "nbformat": 4,
 "nbformat_minor": 2
}
