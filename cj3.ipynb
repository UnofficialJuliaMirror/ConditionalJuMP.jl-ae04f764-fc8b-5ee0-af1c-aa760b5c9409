{
 "cells": [
  {
   "cell_type": "code",
   "execution_count": 37,
   "metadata": {
    "collapsed": true
   },
   "outputs": [],
   "source": [
    "using JuMP, Gurobi, BenchmarkTools, Base.Test"
   ]
  },
  {
   "cell_type": "code",
   "execution_count": 79,
   "metadata": {},
   "outputs": [
    {
     "data": {
      "text/latex": [
       "$$ x \\leq 1 $$"
      ],
      "text/plain": [
       "x ≤ 1"
      ]
     },
     "execution_count": 79,
     "metadata": {},
     "output_type": "execute_result"
    }
   ],
   "source": [
    "m = Model()\n",
    "@variable m x\n",
    "c = @constraint m x <= 1"
   ]
  },
  {
   "cell_type": "code",
   "execution_count": 80,
   "metadata": {},
   "outputs": [
    {
     "data": {
      "text/plain": [
       "JuMP.ConstraintRef{JuMP.Model,JuMP.GenericRangeConstraint{JuMP.GenericAffExpr{Float64,JuMP.Variable}}}"
      ]
     },
     "execution_count": 80,
     "metadata": {},
     "output_type": "execute_result"
    }
   ],
   "source": [
    "typeof(c)"
   ]
  },
  {
   "cell_type": "code",
   "execution_count": 83,
   "metadata": {},
   "outputs": [
    {
     "name": "stdout",
     "output_type": "stream",
     "text": [
      "JuMP.GenericRangeConstraint{JuMP.GenericAffExpr{Float64,JuMP.Variable}} <: JuMP.AbstractConstraint\n",
      "  terms::JuMP.GenericAffExpr{Float64,JuMP.Variable}\n",
      "  lb::Float64\n",
      "  ub::Float64\n"
     ]
    }
   ],
   "source": [
    "dump(typeof(c.m.linconstr[c.idx]))"
   ]
  },
  {
   "cell_type": "code",
   "execution_count": 85,
   "metadata": {},
   "outputs": [
    {
     "data": {
      "text/latex": [
       "$$ x \\leq 1 $$"
      ],
      "text/plain": [
       "x ≤ 1"
      ]
     },
     "execution_count": 85,
     "metadata": {},
     "output_type": "execute_result"
    }
   ],
   "source": [
    "cn = c.m.linconstr[c.idx]"
   ]
  },
  {
   "cell_type": "code",
   "execution_count": null,
   "metadata": {
    "collapsed": true
   },
   "outputs": [],
   "source": [
    "cn."
   ]
  },
  {
   "cell_type": "code",
   "execution_count": null,
   "metadata": {
    "collapsed": true
   },
   "outputs": [],
   "source": []
  },
  {
   "cell_type": "code",
   "execution_count": 93,
   "metadata": {},
   "outputs": [
    {
     "name": "stderr",
     "output_type": "stream",
     "text": [
      "WARNING: replacing module cj3\n"
     ]
    },
    {
     "data": {
      "text/plain": [
       "cj3"
      ]
     },
     "execution_count": 93,
     "metadata": {},
     "output_type": "execute_result"
    }
   ],
   "source": [
    "module cj3\n",
    "\n",
    "using JuMP\n",
    "import Base: hash, ==, show, &\n",
    "\n",
    "const Constraint{T} = JuMP.GenericRangeConstraint{JuMP.GenericAffExpr{T, JuMP.Variable}}\n",
    "\n",
    "struct Conditional\n",
    "    constraints::Set{Constraint{Float64}}\n",
    "end\n",
    "\n",
    "# work-around because JuMP doesn't properly define hash()\n",
    "function _hash(x::Constraint, h::UInt)\n",
    "    h = hash(x.lb, h)\n",
    "    h = hash(x.ub, h)\n",
    "    h = hash(x.terms.constant, h)\n",
    "    for v in x.terms.vars\n",
    "        h = hash(v, h)\n",
    "    end\n",
    "    for c in x.terms.coeffs\n",
    "        h = hash(c, h)\n",
    "    end\n",
    "    h\n",
    "end\n",
    "\n",
    "function hash(c::Conditional, h::UInt)\n",
    "    for constraint in c.constraints\n",
    "        h = _hash(constraint, h)\n",
    "    end\n",
    "end\n",
    "\n",
    "(==)(c1::Conditional, c2::Conditional) = c1.constraints == c2.constraints\n",
    "\n",
    "# (==)(e1::Constraint, e2::Constraint) = (e1.equality == e2.equality) && (e1.terms == e2.terms)\n",
    "\n",
    "# Base.convert(::Type{HashableAffExpr}, x::AffExpr) = HashableAffExpr(x)\n",
    "    \n",
    "# struct Conditional\n",
    "#     args::Set{HashableAffExpr}\n",
    "# end\n",
    "\n",
    "# const Conditional = Set{Constraint}\n",
    "\n",
    "# hash(c::Conditional, h::UInt) = hash(c.args, hash(Conditional, h))\n",
    "# (==)(c1::Conditional, c2::Conditional) = c1.args == c2.args\n",
    "\n",
    "function simplify(e::JuMP.GenericAffExpr{T, Variable}) where T\n",
    "    coeffs = Dict{Variable, T}()\n",
    "    for i in eachindex(e.vars)\n",
    "        v, c = e.vars[i], e.coeffs[i]\n",
    "        if c != 0\n",
    "            coeffs[v] = get(coeffs, v, zero(T)) + c\n",
    "        end\n",
    "    end\n",
    "    pairs = collect(coeffs)\n",
    "    sort!(pairs)\n",
    "    AffExpr(first.(pairs), last.(pairs), e.constant)\n",
    "end\n",
    "\n",
    "Conditional(::typeof(<=), x, y) = Conditional(Set([Constraint{Float64}(simplify(x - y), -Inf, 0)]))\n",
    "Conditional(::typeof(>=), x, y) = Conditional(Set([Constraint{Float64}(simplify(y - x), -Inf, 0)]))\n",
    "\n",
    "# Conditional(::typeof(<=), x, y) = Set([Constraint(simplify(x - y), false)])\n",
    "# Conditional(::typeof(>=), x, y) = Set([Constraint(simplify(y - x), false)])\n",
    "# Conditional(::typeof(==), x, y) = Set([Constraint(simplify(x - y), true)])\n",
    "# (&)(c1::Conditional, c2::Conditional) = union(c1, c2)\n",
    "\n",
    "nan_to_null(x) = isnan(x) ? Nullable{typeof(x)}() : Nullable{typeof(x)}(x)\n",
    "\n",
    "\"\"\"\n",
    "Like JuMP.getvalue, but returns a Nullable{T}() for unset variables instead\n",
    "of throwing a warning\n",
    "\"\"\"\n",
    "_getvalue(x::Variable) = nan_to_null(JuMP._getValue(x))\n",
    "_getvalue(x::Number) = nan_to_null(x)\n",
    "\n",
    "function _getvalue(x::JuMP.GenericAffExpr{T, Variable}) where {T}\n",
    "    result::Nullable{T} = x.constant\n",
    "    for i in eachindex(x.coeffs)\n",
    "        result = result .+ x.coeffs[i] .* _getvalue(x.vars[i])\n",
    "    end\n",
    "    result\n",
    "end\n",
    "\n",
    "function _getvalue(h::Constraint)\n",
    "    v = _getvalue(h.terms)\n",
    "    if h.equality\n",
    "        return abs.(v)\n",
    "    else\n",
    "        return v\n",
    "    end\n",
    "end\n",
    "\n",
    "# _getvalue(c::Conditional) = maximum(_getvalue, c.args)\n",
    "\n",
    "# hascomplement(c::Conditional) = (length(c) == 1 && \n",
    "# function complement(c::Conditional)\n",
    "#     @assert hascomplement(c)\n",
    "#     Conditional([Constraint(-first(c).expr)]))\n",
    "# end\n",
    "\n",
    "# show(io::IO, h::HashableAffExpr) = print(io, h.expr)\n",
    "\n",
    "# function show(io::IO, c::Conditional)\n",
    "#     print(io, join([\"($arg <= 0)\" for arg in c.args], \" & \"))\n",
    "# end\n",
    "\n",
    "end\n",
    "    "
   ]
  },
  {
   "cell_type": "code",
   "execution_count": 94,
   "metadata": {},
   "outputs": [
    {
     "name": "stdout",
     "output_type": "stream",
     "text": [
      "\u001b[1m\u001b[91mTest Failed\n",
      "\u001b[39m\u001b[22m  Expression: c1 == c3\n",
      "   Evaluated: cj3.Conditional(Set(JuMP.GenericRangeConstraint{JuMP.GenericAffExpr{Float64,JuMP.Variable}}[x ≤ 0])) == cj3.Conditional(Set(JuMP.GenericRangeConstraint{JuMP.GenericAffExpr{Float64,JuMP.Variable}}[x ≤ 0]))\n"
     ]
    },
    {
     "ename": "LoadError",
     "evalue": "\u001b[91mThere was an error during testing\u001b[39m",
     "output_type": "error",
     "traceback": [
      "\u001b[91mThere was an error during testing\u001b[39m",
      "",
      "Stacktrace:",
      " [1] \u001b[1mrecord\u001b[22m\u001b[22m\u001b[1m(\u001b[22m\u001b[22m::Base.Test.FallbackTestSet, ::Base.Test.Fail\u001b[1m)\u001b[22m\u001b[22m at \u001b[1m./test.jl:533\u001b[22m\u001b[22m",
      " [2] \u001b[1mdo_test\u001b[22m\u001b[22m\u001b[1m(\u001b[22m\u001b[22m::Base.Test.Returned, ::Expr\u001b[1m)\u001b[22m\u001b[22m at \u001b[1m./test.jl:352\u001b[22m\u001b[22m",
      " [3] \u001b[1minclude_string\u001b[22m\u001b[22m\u001b[1m(\u001b[22m\u001b[22m::String, ::String\u001b[1m)\u001b[22m\u001b[22m at \u001b[1m./loading.jl:515\u001b[22m\u001b[22m"
     ]
    }
   ],
   "source": [
    "m = Model()\n",
    "@variable m x\n",
    "c1 = cj3.Conditional(<=, x, 0)\n",
    "c2 = cj3.Conditional(>=, x, 0)\n",
    "c3 = cj3.Conditional(<=, x + 5, 5)\n",
    "\n",
    "@test c1 != c2\n",
    "@test c2 != c3\n",
    "@test c1 == c3\n",
    "@test c1 !== c3\n",
    "@test hash(c1) == hash(c3)\n",
    "@test hash(c1) != hash(c2)\n",
    "@test isnull(cj3._getvalue(c1))\n",
    "@test isnull(cj3._getvalue(c2))\n",
    "setvalue(x, -0.1)\n",
    "@test get(cj3._getvalue(c1)) == -0.1\n",
    "@test get(cj3._getvalue(c2)) == 0.1"
   ]
  },
  {
   "cell_type": "code",
   "execution_count": 101,
   "metadata": {},
   "outputs": [],
   "source": [
    "@edit first(c1.constraints) == first(c3.constraints)"
   ]
  },
  {
   "cell_type": "code",
   "execution_count": 100,
   "metadata": {},
   "outputs": [
    {
     "name": "stdout",
     "output_type": "stream",
     "text": [
      "JuMP.GenericRangeConstraint{JuMP.GenericAffExpr{Float64,JuMP.Variable}}\n",
      "  terms: JuMP.GenericAffExpr{Float64,JuMP.Variable}\n",
      "    vars: Array{JuMP.Variable}((1,))\n",
      "      1: JuMP.Variable\n",
      "        m: JuMP.Model\n",
      "          obj: JuMP.GenericQuadExpr{Float64,JuMP.Variable}\n",
      "            qvars1: Array{JuMP.Variable}((0,))\n",
      "            qvars2: Array{JuMP.Variable}((0,))\n",
      "            qcoeffs: Array{Float64}((0,)) Float64[]\n",
      "            aff: JuMP.GenericAffExpr{Float64,JuMP.Variable}\n",
      "              vars: Array{JuMP.Variable}((0,))\n",
      "              coeffs: Array{Float64}((0,)) Float64[]\n",
      "              constant: Float64 0.0\n",
      "          objSense: Symbol Min\n",
      "          linconstr: Array{JuMP.GenericRangeConstraint{JuMP.GenericAffExpr{Float64,JuMP.Variable}}}((0,))\n",
      "          quadconstr: Array{JuMP.GenericQuadConstraint{JuMP.GenericQuadExpr{Float64,JuMP.Variable}}}((0,))\n",
      "          sosconstr: Array{JuMP.SOSConstraint}((0,))\n",
      "          socconstr: Array{JuMP.GenericSOCConstraint{JuMP.GenericNormExpr{2,Float64,JuMP.Variable}}}((0,))\n",
      "          sdpconstr: Array{JuMP.SDConstraint}((0,))\n",
      "          numCols: Int64 1\n",
      "          colNames: Array{String}((1,))\n",
      "            1: String \"x\"\n",
      "          colNamesIJulia: Array{String}((1,))\n",
      "            1: String \"x\"\n",
      "          colLower: Array{Float64}((1,)) [-Inf]\n",
      "          colUpper: Array{Float64}((1,)) [Inf]\n",
      "          colCat: Array{Symbol}((1,))\n",
      "            1: Symbol Cont\n",
      "          customNames: Array{JuMP.Variable}((0,))\n",
      "          varCones: Array{Tuple{Symbol,Any}}((0,))\n",
      "          objBound: Int64 0\n",
      "          objVal: Int64 0\n",
      "          colVal: Array{Float64}((1,)) [NaN]\n",
      "          redCosts: Array{Float64}((0,)) Float64[]\n",
      "          linconstrDuals: Array{Float64}((0,)) Float64[]\n",
      "          conicconstrDuals: Array{Float64}((0,)) Float64[]\n",
      "          constr_to_row: Array{Array{Int64,1}}((0,))\n",
      "          sdpconstrSym: Array{Array{Tuple{Int64,Int64},1}}((0,))\n",
      "          internalModel: Void nothing\n",
      "          solver: JuMP.UnsetSolver JuMP.UnsetSolver()\n",
      "          internalModelLoaded: Bool false\n",
      "          callbacks: Array{Any}((0,))\n",
      "          solvehook: Void nothing\n",
      "          printhook: Void nothing\n",
      "          dictList: Array{Any}((0,))\n",
      "          indexedVector: JuMP.IndexedVector{Float64}\n",
      "            elts: Array{Float64}((0,)) Float64[]\n",
      "            nzidx: Array{Int64}((0,)) Int64[]\n",
      "            nnz: Int64 0\n",
      "            empty: BitArray{1}\n",
      "              chunks: Array{UInt64}((0,)) UInt64[]\n",
      "              len: Int64 0\n",
      "              dims: Tuple{Int64}\n",
      "                1: Int64 4486070768\n",
      "          nlpdata: Void nothing\n",
      "          simplify_nonlinear_expressions: Bool false\n",
      "          objDict: Dict{Symbol,Any}\n",
      "            slots: Array{UInt8}((16,)) UInt8[0x00, 0x00, 0x00, 0x00, 0x00, 0x00, 0x00, 0x00, 0x00, 0x00, 0x00, 0x00, 0x00, 0x00, 0x00, 0x01]\n",
      "            keys: Array{Symbol}((16,))\n",
      "              1: #undef\n",
      "              2: #undef\n",
      "              3: #undef\n",
      "              4: #undef\n",
      "              5: #undef\n",
      "              ...\n",
      "              12: #undef\n",
      "              13: #undef\n",
      "              14: #undef\n",
      "              15: #undef\n",
      "              16: Symbol x\n",
      "            vals: Array{Any}((16,))\n",
      "              1: #undef\n",
      "              2: #undef\n",
      "              3: #undef\n",
      "              4: #undef\n",
      "              5: #undef\n",
      "              ...\n",
      "              12: #undef\n",
      "              13: #undef\n",
      "              14: #undef\n",
      "              15: #undef\n",
      "              16: JuMP.Variable\n",
      "                m: JuMP.Model\n",
      "                col: Int64 1\n",
      "            ndel: Int64 0\n",
      "            count: Int64 1\n",
      "            age: UInt64 1\n",
      "            idxfloor: Int64 1\n",
      "            maxprobe: Int64 0\n",
      "          varData: ObjectIdDict\n",
      "            ht: Array{Any}((32,))\n",
      "              1: #undef\n",
      "              2: #undef\n",
      "              3: #undef\n",
      "              4: #undef\n",
      "              5: #undef\n",
      "              ...\n",
      "              28: #undef\n",
      "              29: #undef\n",
      "              30: #undef\n",
      "              31: #undef\n",
      "              32: #undef\n",
      "            ndel: Int64 0\n",
      "          map_counter: Int64 0\n",
      "          operator_counter: Int64 0\n",
      "          ext: Dict{Symbol,Any}\n",
      "            slots: Array{UInt8}((16,)) UInt8[0x00, 0x00, 0x00, 0x00, 0x00, 0x00, 0x00, 0x00, 0x00, 0x00, 0x00, 0x00, 0x00, 0x00, 0x00, 0x00]\n",
      "            keys: Array{Symbol}((16,))\n",
      "              1: #undef\n",
      "              2: #undef\n",
      "              3: #undef\n",
      "              4: #undef\n",
      "              5: #undef\n",
      "              ...\n",
      "              12: #undef\n",
      "              13: #undef\n",
      "              14: #undef\n",
      "              15: #undef\n",
      "              16: #undef\n",
      "            vals: Array{Any}((16,))\n",
      "              1: #undef\n",
      "              2: #undef\n",
      "              3: #undef\n",
      "              4: #undef\n",
      "              5: #undef\n",
      "              ...\n",
      "              12: #undef\n",
      "              13: #undef\n",
      "              14: #undef\n",
      "              15: #undef\n",
      "              16: #undef\n",
      "            ndel: Int64 0\n",
      "            count: Int64 0\n",
      "            age: UInt64 0\n",
      "            idxfloor: Int64 1\n",
      "            maxprobe: Int64 0\n",
      "        col: Int64 1\n",
      "    coeffs: Array{Float64}((1,)) [1.0]\n",
      "    constant: Float64 0.0\n",
      "  lb: Float64 -Inf\n",
      "  ub: Float64 0.0\n"
     ]
    }
   ],
   "source": [
    "dump(first(c1.constraints))"
   ]
  },
  {
   "cell_type": "code",
   "execution_count": 96,
   "metadata": {},
   "outputs": [
    {
     "data": {
      "text/plain": [
       "Set(JuMP.GenericRangeConstraint{JuMP.GenericAffExpr{Float64,JuMP.Variable}}[x ≤ 0])"
      ]
     },
     "execution_count": 96,
     "metadata": {},
     "output_type": "execute_result"
    }
   ],
   "source": [
    "c3.constraints"
   ]
  },
  {
   "cell_type": "code",
   "execution_count": null,
   "metadata": {
    "collapsed": true
   },
   "outputs": [],
   "source": []
  },
  {
   "cell_type": "code",
   "execution_count": 75,
   "metadata": {},
   "outputs": [
    {
     "data": {
      "text/plain": [
       "(x <= 0)"
      ]
     },
     "execution_count": 75,
     "metadata": {},
     "output_type": "execute_result"
    }
   ],
   "source": [
    "c1 & c3"
   ]
  },
  {
   "cell_type": "code",
   "execution_count": 76,
   "metadata": {},
   "outputs": [
    {
     "data": {
      "text/plain": [
       "(-x <= 0) & (x <= 0)"
      ]
     },
     "execution_count": 76,
     "metadata": {},
     "output_type": "execute_result"
    }
   ],
   "source": [
    "c1 & c2"
   ]
  },
  {
   "cell_type": "code",
   "execution_count": 77,
   "metadata": {},
   "outputs": [
    {
     "data": {
      "text/plain": [
       "(-x <= 0)"
      ]
     },
     "execution_count": 77,
     "metadata": {},
     "output_type": "execute_result"
    }
   ],
   "source": [
    "cj3.complement(c1)"
   ]
  },
  {
   "cell_type": "code",
   "execution_count": 78,
   "metadata": {},
   "outputs": [
    {
     "data": {
      "text/plain": [
       "BenchmarkTools.Trial: \n",
       "  memory estimate:  0 bytes\n",
       "  allocs estimate:  0\n",
       "  --------------\n",
       "  minimum time:     102.877 ns (0.00% GC)\n",
       "  median time:      104.687 ns (0.00% GC)\n",
       "  mean time:        113.770 ns (0.00% GC)\n",
       "  maximum time:     453.154 ns (0.00% GC)\n",
       "  --------------\n",
       "  samples:          10000\n",
       "  evals/sample:     937"
      ]
     },
     "execution_count": 78,
     "metadata": {},
     "output_type": "execute_result"
    }
   ],
   "source": [
    "@benchmark $c1 == $c2"
   ]
  },
  {
   "cell_type": "code",
   "execution_count": 43,
   "metadata": {},
   "outputs": [
    {
     "data": {
      "text/plain": [
       "BenchmarkTools.Trial: \n",
       "  memory estimate:  32 bytes\n",
       "  allocs estimate:  1\n",
       "  --------------\n",
       "  minimum time:     166.368 ns (0.00% GC)\n",
       "  median time:      169.091 ns (0.00% GC)\n",
       "  mean time:        191.204 ns (1.22% GC)\n",
       "  maximum time:     3.060 μs (87.32% GC)\n",
       "  --------------\n",
       "  samples:          10000\n",
       "  evals/sample:     750"
      ]
     },
     "execution_count": 43,
     "metadata": {},
     "output_type": "execute_result"
    }
   ],
   "source": [
    "@benchmark $c1 == $c3"
   ]
  },
  {
   "cell_type": "code",
   "execution_count": 36,
   "metadata": {},
   "outputs": [
    {
     "data": {
      "text/plain": [
       "true"
      ]
     },
     "execution_count": 36,
     "metadata": {},
     "output_type": "execute_result"
    }
   ],
   "source": [
    "c1 == c3"
   ]
  },
  {
   "cell_type": "code",
   "execution_count": 22,
   "metadata": {},
   "outputs": [
    {
     "data": {
      "text/plain": [
       "Set(cj3.HashableAffExpr[cj3.HashableAffExpr(x)])"
      ]
     },
     "execution_count": 22,
     "metadata": {},
     "output_type": "execute_result"
    }
   ],
   "source": [
    "c1.args"
   ]
  },
  {
   "cell_type": "code",
   "execution_count": 24,
   "metadata": {},
   "outputs": [
    {
     "data": {
      "text/plain": [
       "Set(cj3.HashableAffExpr[cj3.HashableAffExpr(x)])"
      ]
     },
     "execution_count": 24,
     "metadata": {},
     "output_type": "execute_result"
    }
   ],
   "source": [
    "c3.args"
   ]
  },
  {
   "cell_type": "code",
   "execution_count": 26,
   "metadata": {},
   "outputs": [
    {
     "data": {
      "text/plain": [
       "false"
      ]
     },
     "execution_count": 26,
     "metadata": {},
     "output_type": "execute_result"
    }
   ],
   "source": [
    "c1.args == c3.args"
   ]
  },
  {
   "cell_type": "code",
   "execution_count": 31,
   "metadata": {
    "collapsed": true
   },
   "outputs": [],
   "source": [
    "@edit (x + 1) == (x - 1)"
   ]
  },
  {
   "cell_type": "code",
   "execution_count": 30,
   "metadata": {},
   "outputs": [],
   "source": [
    "@edit first(c1.args) == first(c3.args)"
   ]
  },
  {
   "cell_type": "code",
   "execution_count": 28,
   "metadata": {},
   "outputs": [
    {
     "data": {
      "text/plain": [
       "cj3.HashableAffExpr(x)"
      ]
     },
     "execution_count": 28,
     "metadata": {},
     "output_type": "execute_result"
    }
   ],
   "source": [
    "first(c3.args)"
   ]
  },
  {
   "cell_type": "code",
   "execution_count": null,
   "metadata": {
    "collapsed": true
   },
   "outputs": [],
   "source": []
  }
 ],
 "metadata": {
  "kernelspec": {
   "display_name": "Julia 0.6.0",
   "language": "julia",
   "name": "julia-0.6"
  },
  "language_info": {
   "file_extension": ".jl",
   "mimetype": "application/julia",
   "name": "julia",
   "version": "0.6.0"
  }
 },
 "nbformat": 4,
 "nbformat_minor": 2
}
