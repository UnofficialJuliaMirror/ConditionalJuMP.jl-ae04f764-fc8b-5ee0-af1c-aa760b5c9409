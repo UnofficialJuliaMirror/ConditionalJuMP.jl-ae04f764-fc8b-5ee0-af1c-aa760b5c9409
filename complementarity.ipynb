{
 "cells": [
  {
   "cell_type": "code",
   "execution_count": null,
   "metadata": {},
   "outputs": [],
   "source": [
    "using Polyhedra\n",
    "using DrakeVisualizer\n",
    "DrakeVisualizer.any_open_windows() || DrakeVisualizer.new_window()\n",
    "using RigidBodyDynamics\n",
    "using StaticArrays\n",
    "using RigidBodyTreeInspector"
   ]
  },
  {
   "cell_type": "code",
   "execution_count": null,
   "metadata": {},
   "outputs": [],
   "source": [
    "vis = Visualizer()[:hopper]"
   ]
  },
  {
   "cell_type": "code",
   "execution_count": null,
   "metadata": {
    "collapsed": true
   },
   "outputs": [],
   "source": [
    "using JuMP, Cbc"
   ]
  },
  {
   "cell_type": "code",
   "execution_count": null,
   "metadata": {},
   "outputs": [],
   "source": [
    "include(\"examples/articulated_complementarity.jl\")"
   ]
  },
  {
   "cell_type": "code",
   "execution_count": null,
   "metadata": {},
   "outputs": [],
   "source": [
    "g = -9.81\n",
    "world = RigidBody{Float64}(\"world\")\n",
    "hopper = Mechanism(world; gravity=SVector(0, 0, g))\n",
    "\n",
    "frame = CartesianFrame3D(\"core\")\n",
    "mass = 1.\n",
    "inertia = SpatialInertia(frame, 0.01 * eye(SMatrix{3, 3}), SVector(0., 0, 0), mass)\n",
    "core = RigidBody(inertia)\n",
    "\n",
    "floating_base = Joint(\"core_to_world\", QuaternionFloating{Float64}())\n",
    "attach!(hopper, world, floating_base, eye(Transform3D, frame_before(floating_base), default_frame(world)), core)\n",
    "\n",
    "frame = CartesianFrame3D(\"foot\")\n",
    "mass = 1.\n",
    "inertia = SpatialInertia(frame, 0.01 * eye(SMatrix{3, 3}), SVector(0., 0, 0), mass)\n",
    "foot = RigidBody(inertia)\n",
    "leg = Joint(\"leg\", Prismatic(SVector(0, 0, -1.)))\n",
    "attach!(hopper, core, leg, eye(Transform3D, frame_before(leg), default_frame(core)), foot)\n",
    "\n",
    "foot_contact = Point3D(default_frame(foot), SVector(0, 0, 0))\n",
    "\n",
    "setgeometry!(vis, hopper, create_geometry(hopper, show_inertias=true))"
   ]
  },
  {
   "cell_type": "code",
   "execution_count": null,
   "metadata": {},
   "outputs": [],
   "source": [
    "env = Complementarity.Environment(\n",
    "    Dict(foot => Complementarity.ContactEnvironment(\n",
    "            [foot_contact],\n",
    "            [\n",
    "                Complementarity.Obstacle(\n",
    "                    SimpleHRepresentation{3, Float64}([0 0 1], [0]),\n",
    "                    HalfSpace{3, Float64}([0, 0, 1], 0),\n",
    "                    0.5\n",
    "                ),\n",
    "            ],\n",
    "            [\n",
    "                SimpleHRepresentation{3, Float64}(\n",
    "                    [0 0 -1],\n",
    "                    [0])\n",
    "            ])\n",
    "        )\n",
    ")\n",
    "\n",
    "limits = Dict(\n",
    "    leg => SimpleHRepresentation{1, Float64}([1 -1]', [1.5, -0.5])\n",
    ")"
   ]
  },
  {
   "cell_type": "code",
   "execution_count": null,
   "metadata": {},
   "outputs": [],
   "source": [
    "x0 = MechanismState(hopper, [0., 0, 0, 1, 0, 0, 1.5, 1.0], zeros(num_velocities(hopper)))\n",
    "\n",
    "u = zeros(num_velocities(x0))\n",
    "\n",
    "model = Model(solver=CbcSolver())\n",
    "up = Complementarity.update(x0, u, limits, env, 0.1, model)"
   ]
  },
  {
   "cell_type": "code",
   "execution_count": null,
   "metadata": {
    "scrolled": false
   },
   "outputs": [],
   "source": [
    "controller = (x) -> begin\n",
    "    kp = 40\n",
    "    kd = 0.1 * kp\n",
    "    u = zeros(num_velocities(x))\n",
    "    u[end] = kp * (1 - configuration(x)[end]) - kd * velocity(x)[end]\n",
    "    u\n",
    "end\n",
    "\n",
    "results = Complementarity.simulate(x0, controller, limits, env, 0.05, 20);"
   ]
  },
  {
   "cell_type": "code",
   "execution_count": null,
   "metadata": {},
   "outputs": [],
   "source": [
    "for r in results\n",
    "    settransform!(vis, r.state)\n",
    "    sleep(0.1)\n",
    "end"
   ]
  },
  {
   "cell_type": "code",
   "execution_count": null,
   "metadata": {
    "collapsed": true
   },
   "outputs": [],
   "source": []
  }
 ],
 "metadata": {
  "kernelspec": {
   "display_name": "Julia 0.6.0",
   "language": "julia",
   "name": "julia-0.6"
  },
  "language_info": {
   "file_extension": ".jl",
   "mimetype": "application/julia",
   "name": "julia",
   "version": "0.6.0"
  }
 },
 "nbformat": 4,
 "nbformat_minor": 2
}
