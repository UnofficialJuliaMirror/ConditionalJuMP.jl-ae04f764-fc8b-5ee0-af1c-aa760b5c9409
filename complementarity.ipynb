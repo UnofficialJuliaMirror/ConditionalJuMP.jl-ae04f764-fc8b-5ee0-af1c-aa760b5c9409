{
 "cells": [
  {
   "cell_type": "code",
   "execution_count": null,
   "metadata": {},
   "outputs": [],
   "source": [
    "using ProfileView\n",
    "using DrakeVisualizer, CoordinateTransformations\n",
    "DrakeVisualizer.any_open_windows() || DrakeVisualizer.new_window()"
   ]
  },
  {
   "cell_type": "code",
   "execution_count": null,
   "metadata": {},
   "outputs": [],
   "source": [
    "using Polyhedra\n",
    "using StaticArrays\n",
    "using CoordinateTransformations\n",
    "using JuMP, ConditionalJuMP, Cbc\n",
    "using Base.Test"
   ]
  },
  {
   "cell_type": "code",
   "execution_count": null,
   "metadata": {},
   "outputs": [],
   "source": [
    "rot2(θ) = SMatrix{2, 2}(cos(θ), -sin(θ), sin(θ), cos(θ))"
   ]
  },
  {
   "cell_type": "code",
   "execution_count": null,
   "metadata": {},
   "outputs": [],
   "source": [
    "struct Obstacle{N, T, H <: HRepresentation{N, T}}\n",
    "    interior::H\n",
    "    contact_face::HalfSpace{N, T}\n",
    "end\n",
    "\n",
    "struct Environment{N, T, H1 <: HRepresentation{N, T}, H2 <: HRepresentation{N, T}}\n",
    "    obstacles::Vector{Obstacle{N, T, H1}}\n",
    "    free_regions::Vector{H2}\n",
    "end\n",
    "\n",
    "function contact_basis(face::HalfSpace{2})\n",
    "    θ = atan(μ)\n",
    "    R = rot2(θ)\n",
    "    hcat(R * face.a, R' * face.a)\n",
    "end\n",
    "    \n",
    "\n",
    "contact_basis(obs::Obstacle) = contact_basis(obs.contact_face)"
   ]
  },
  {
   "cell_type": "code",
   "execution_count": null,
   "metadata": {},
   "outputs": [],
   "source": [
    "env = Environment(\n",
    "    [\n",
    "        Obstacle(\n",
    "            SimpleHRepresentation{2, Float64}([0 1], [0]),\n",
    "            HalfSpace{2, Float64}([0, 1], 0)\n",
    "        )\n",
    "    ],\n",
    "    [\n",
    "        SimpleHRepresentation{2, Float64}([0 -1], [0])\n",
    "    ]\n",
    ")\n"
   ]
  },
  {
   "cell_type": "code",
   "execution_count": null,
   "metadata": {},
   "outputs": [],
   "source": [
    "# A simple complementarity-based time-stepping rigid body simulation. All\n",
    "# notation is taken from Stewart & Trinkle \"An Implicit Time-Stepping Scheme for\n",
    "# Rigid Body Dynamics with Coulomb Friction\". This particular example solves\n",
    "# for all N timesteps simultaneously. That's not actually necessary, but it makes\n",
    "# the code a bit simpler to read. \n",
    "#\n",
    "# The model consists of a point mass (visualized as a brick) moving in two dimensions\n",
    "# with gravity and a single planar surface at y = 0. \n",
    "\n",
    "h = 0.05\n",
    "μ = 0.5\n",
    "n = [0, 1]\n",
    "mass = 1.0\n",
    "g = [0, -9.81]\n",
    "\n",
    "struct ContactResult{T, Tf}\n",
    "    β::Vector{T}\n",
    "    λ::T\n",
    "    c_n::T\n",
    "    contact_force::Tf\n",
    "end\n",
    "\n",
    "JuMP.getvalue(c::ContactResult) = ContactResult(getvalue.((c.β, c.λ, c.c_n, c.contact_force))...)\n",
    "\n",
    "struct LCPUpdate{T, Tf}\n",
    "    q::Vector{T}\n",
    "    v::Vector{T}\n",
    "    contacts::Vector{ContactResult{T, Tf}}\n",
    "end\n",
    "\n",
    "JuMP.getvalue(up::LCPUpdate) =\n",
    "    LCPUpdate(getvalue.((up.q, up.v))..., getvalue.(up.contacts))\n",
    "\n",
    "function contact_force(qnext, vnext, obstacle::Obstacle, model::Model)\n",
    "    n = obstacle.contact_face.a\n",
    "    D = contact_basis(obstacle)\n",
    "    k = size(D, 2)\n",
    "    \n",
    "    β = @variable(model,   [1:k], lowerbound=0,   basename=\"β\",     upperbound=100)\n",
    "    λ = @variable(model,          lowerbound=0,   basename=\"λ\",     upperbound=100)\n",
    "    c_n = @variable(model,        lowerbound=0,   basename=\"c_n\",   upperbound=100)\n",
    "    \n",
    "    @constraints model begin\n",
    "        λ .+ D' * vnext .>= 0 # (8)\n",
    "        μ * c_n .- sum(β) >= 0 # (9)\n",
    "    end\n",
    "    \n",
    "    @disjunction(model, (n' * qnext == 0), (c_n == 0)) # (10)\n",
    "    Dtv = D' * vnext\n",
    "    for j in 1:k\n",
    "        @disjunction(model, ((λ + Dtv[j]) == 0), β[j] == 0) # (11)\n",
    "    end\n",
    "    @disjunction(model, (μ * c_n - sum(β) == 0), (λ == 0)) # (12)\n",
    "    \n",
    "    contact_force = c_n * n .+ D * β\n",
    "    ContactResult(β, λ, c_n, contact_force)\n",
    "end\n",
    "\n",
    "function update(q, v, env::Environment, model::Model)\n",
    "    qnext = @variable(model, [1:length(q)], lowerbound=-10, basename=\"qnext\", upperbound=10)\n",
    "    vnext = @variable(model, [1:length(v)], lowerbound=-10, basename=\"vnext\", upperbound=10)\n",
    "    \n",
    "    contacts = [contact_force(qnext, vnext, obs, model) for obs in env.obstacles]\n",
    "    total_force = mass * g + sum([c.contact_force for c in contacts])\n",
    "        \n",
    "    ConditionalJuMP.disjunction!(\n",
    "        model, \n",
    "        [@?(qnext ∈ P) for P in env.free_regions])\n",
    "    \n",
    "    @constraints model begin\n",
    "        mass * (vnext - v) .== h * total_force # (5)\n",
    "        qnext - q .== h .* vnext # (6)\n",
    "        qnext[2] >= 0 # (7)\n",
    "    end\n",
    "\n",
    "    LCPUpdate(qnext, vnext, contacts)\n",
    "end\n",
    "\n",
    "function simulate(q0, v0, env::Environment, N)\n",
    "    q, v = q0, v0\n",
    "    results = LCPUpdate{Float64}[]\n",
    "    for i in 1:N\n",
    "        m = Model(solver=CbcSolver())\n",
    "        up = update(q, v, env, m)\n",
    "        solve(m)\n",
    "        push!(results, getvalue(up))\n",
    "        q = results[end].q\n",
    "        v = results[end].v\n",
    "    end\n",
    "    results\n",
    "end\n",
    "\n",
    "function optimize(q0, v0, env::Environment, N)::Vector{LCPUpdate{Float64}}\n",
    "    q, v = q0, v0\n",
    "    m = Model(solver=CbcSolver())\n",
    "    results = []\n",
    "    for i in 1:N\n",
    "        up = update(q, v, env, m)\n",
    "        push!(results, up)\n",
    "        q = results[end].q\n",
    "        v = results[end].v\n",
    "    end\n",
    "    solve(m)\n",
    "    getvalue.(results)\n",
    "end "
   ]
  },
  {
   "cell_type": "code",
   "execution_count": null,
   "metadata": {},
   "outputs": [],
   "source": [
    "hs = env.obstacles[1].contact_face"
   ]
  },
  {
   "cell_type": "code",
   "execution_count": null,
   "metadata": {},
   "outputs": [],
   "source": [
    "q0 = [-1, 0.5]\n",
    "v0 = [2, 0.5]\n",
    "N = 40"
   ]
  },
  {
   "cell_type": "code",
   "execution_count": null,
   "metadata": {},
   "outputs": [],
   "source": [
    "results = simulate(q0, v0, env, N)"
   ]
  },
  {
   "cell_type": "code",
   "execution_count": null,
   "metadata": {},
   "outputs": [],
   "source": [
    "optimize(q0, v0, env, N)"
   ]
  },
  {
   "cell_type": "code",
   "execution_count": null,
   "metadata": {
    "collapsed": true
   },
   "outputs": [],
   "source": []
  }
 ],
 "metadata": {
  "kernelspec": {
   "display_name": "Julia 0.6.0",
   "language": "julia",
   "name": "julia-0.6"
  },
  "language_info": {
   "file_extension": ".jl",
   "mimetype": "application/julia",
   "name": "julia",
   "version": "0.6.0"
  }
 },
 "nbformat": 4,
 "nbformat_minor": 2
}
