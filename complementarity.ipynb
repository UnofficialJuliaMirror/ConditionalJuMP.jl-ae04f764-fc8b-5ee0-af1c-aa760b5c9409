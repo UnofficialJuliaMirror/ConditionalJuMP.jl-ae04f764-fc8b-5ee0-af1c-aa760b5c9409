{
 "cells": [
  {
   "cell_type": "code",
   "execution_count": null,
   "metadata": {},
   "outputs": [],
   "source": [
    "using Polyhedra\n",
    "using DrakeVisualizer, CoordinateTransformations\n",
    "DrakeVisualizer.any_open_windows() || DrakeVisualizer.new_window()"
   ]
  },
  {
   "cell_type": "code",
   "execution_count": null,
   "metadata": {},
   "outputs": [],
   "source": [
    "using Plots; gr()"
   ]
  },
  {
   "cell_type": "code",
   "execution_count": null,
   "metadata": {},
   "outputs": [],
   "source": [
    "vis = Visualizer()[:hopper]\n",
    "setgeometry!(vis, HyperRectangle(Vec(-0.1, -0.1, 0), Vec(0.2, 0.2, 0.2)))\n",
    "setgeometry!(vis[:foot], HyperRectangle(Vec(-0.05, -0.05, 0), Vec(0.1, 0.1, 0.1)))"
   ]
  },
  {
   "cell_type": "code",
   "execution_count": null,
   "metadata": {},
   "outputs": [],
   "source": [
    "include(\"examples/articulated_complementarity.jl\")"
   ]
  },
  {
   "cell_type": "code",
   "execution_count": null,
   "metadata": {},
   "outputs": [],
   "source": [
    "\n",
    "env = Complementarity.Environment(\n",
    "    [\n",
    "        Complementarity.Obstacle(\n",
    "            SimpleHRepresentation{2, Float64}([0 1], [0]),\n",
    "            HalfSpace{2, Float64}([0, 1], 0)\n",
    "        ),\n",
    "        Complementarity.Obstacle(\n",
    "            SimpleHRepresentation{2, Float64}([-1 0], [-0.2]),\n",
    "            HalfSpace{2, Float64}([-1, 0], -0.2)\n",
    "        )\n",
    "    ],\n",
    "    [\n",
    "        SimpleHRepresentation{2, Float64}(\n",
    "            [0 -1;\n",
    "             1 0],\n",
    "            [0, 0.2])\n",
    "    ]\n",
    ")\n",
    "\n",
    "q0 = [-0.5, 1.25, 1.0]\n",
    "v0 = [0, 0, 0.0]\n",
    "kp = 1.25\n",
    "kd = 0.01 * kp\n",
    "controller = (q, v) -> kp * (1 - q[3]) - kd * v[3]\n",
    "N = 20"
   ]
  },
  {
   "cell_type": "code",
   "execution_count": null,
   "metadata": {},
   "outputs": [],
   "source": [
    "results = Complementarity.simulate(q0, v0, controller, env, 40);"
   ]
  },
  {
   "cell_type": "code",
   "execution_count": null,
   "metadata": {
    "collapsed": true
   },
   "outputs": [],
   "source": [
    "for r in results\n",
    "    settransform!(vis, Translation(r.q[1], 0, r.q[2]))\n",
    "    settransform!(vis[:foot], Translation(0, 0, -r.q[3]))\n",
    "    sleep(0.1)\n",
    "end"
   ]
  },
  {
   "cell_type": "code",
   "execution_count": null,
   "metadata": {},
   "outputs": [],
   "source": [
    "plot([r.q[2] for r in results])"
   ]
  },
  {
   "cell_type": "code",
   "execution_count": null,
   "metadata": {
    "collapsed": true
   },
   "outputs": [],
   "source": []
  }
 ],
 "metadata": {
  "kernelspec": {
   "display_name": "Julia 0.6.0",
   "language": "julia",
   "name": "julia-0.6"
  },
  "language_info": {
   "file_extension": ".jl",
   "mimetype": "application/julia",
   "name": "julia",
   "version": "0.6.0"
  }
 },
 "nbformat": 4,
 "nbformat_minor": 2
}
